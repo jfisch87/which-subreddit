{
 "cells": [
  {
   "cell_type": "markdown",
   "metadata": {},
   "source": [
    "This notebook was just used for notes and other quick data and number counts.  I also used this to check the top words in each subreddit and compare them to each other.  "
   ]
  },
  {
   "cell_type": "code",
   "execution_count": 39,
   "metadata": {},
   "outputs": [],
   "source": [
    "import pandas as pd\n",
    "from sklearn.feature_extraction.text import CountVectorizer\n",
    "from sklearn.feature_extraction import text\n",
    "import numpy as np\n"
   ]
  },
  {
   "cell_type": "code",
   "execution_count": 2,
   "metadata": {},
   "outputs": [
    {
     "data": {
      "text/html": [
       "<div>\n",
       "<style scoped>\n",
       "    .dataframe tbody tr th:only-of-type {\n",
       "        vertical-align: middle;\n",
       "    }\n",
       "\n",
       "    .dataframe tbody tr th {\n",
       "        vertical-align: top;\n",
       "    }\n",
       "\n",
       "    .dataframe thead th {\n",
       "        text-align: right;\n",
       "    }\n",
       "</style>\n",
       "<table border=\"1\" class=\"dataframe\">\n",
       "  <thead>\n",
       "    <tr style=\"text-align: right;\">\n",
       "      <th></th>\n",
       "      <th>title</th>\n",
       "      <th>id</th>\n",
       "      <th>url</th>\n",
       "      <th>body</th>\n",
       "      <th>date_created</th>\n",
       "      <th>number_comments</th>\n",
       "      <th>author</th>\n",
       "      <th>self_post</th>\n",
       "      <th>sub</th>\n",
       "      <th>submission</th>\n",
       "    </tr>\n",
       "  </thead>\n",
       "  <tbody>\n",
       "    <tr>\n",
       "      <th>0</th>\n",
       "      <td>All In The War Machine</td>\n",
       "      <td>eld4i6</td>\n",
       "      <td>https://i.redd.it/cj2vw26nmd941.jpg</td>\n",
       "      <td>NaN</td>\n",
       "      <td>1.578440e+09</td>\n",
       "      <td>780.0</td>\n",
       "      <td>everythingorange9</td>\n",
       "      <td>0.0</td>\n",
       "      <td>wsb</td>\n",
       "      <td>1</td>\n",
       "    </tr>\n",
       "    <tr>\n",
       "      <th>1</th>\n",
       "      <td>How to get oil back up</td>\n",
       "      <td>g55or2</td>\n",
       "      <td>https://i.redd.it/w5iqqihjo2u41.jpg</td>\n",
       "      <td>NaN</td>\n",
       "      <td>1.587461e+09</td>\n",
       "      <td>516.0</td>\n",
       "      <td>futuretrollshark</td>\n",
       "      <td>0.0</td>\n",
       "      <td>wsb</td>\n",
       "      <td>1</td>\n",
       "    </tr>\n",
       "    <tr>\n",
       "      <th>2</th>\n",
       "      <td>Type yy into google.</td>\n",
       "      <td>c75d5x</td>\n",
       "      <td>https://www.reddit.com/r/wallstreetbets/commen...</td>\n",
       "      <td>That’s all I’m saying.</td>\n",
       "      <td>1.561875e+09</td>\n",
       "      <td>17281.0</td>\n",
       "      <td>Alopez2897</td>\n",
       "      <td>1.0</td>\n",
       "      <td>wsb</td>\n",
       "      <td>1</td>\n",
       "    </tr>\n",
       "    <tr>\n",
       "      <th>3</th>\n",
       "      <td>Oil is now expenzive</td>\n",
       "      <td>d51f4o</td>\n",
       "      <td>https://i.redd.it/2j386s5iuym31.png</td>\n",
       "      <td>NaN</td>\n",
       "      <td>1.568673e+09</td>\n",
       "      <td>1019.0</td>\n",
       "      <td>NaN</td>\n",
       "      <td>0.0</td>\n",
       "      <td>wsb</td>\n",
       "      <td>1</td>\n",
       "    </tr>\n",
       "    <tr>\n",
       "      <th>4</th>\n",
       "      <td>My dad, working through a 15-hour time zone di...</td>\n",
       "      <td>d29nov</td>\n",
       "      <td>https://i.redd.it/60asaz4zhsl31.jpg</td>\n",
       "      <td>NaN</td>\n",
       "      <td>1.568160e+09</td>\n",
       "      <td>1633.0</td>\n",
       "      <td>SerraTL</td>\n",
       "      <td>0.0</td>\n",
       "      <td>wsb</td>\n",
       "      <td>1</td>\n",
       "    </tr>\n",
       "  </tbody>\n",
       "</table>\n",
       "</div>"
      ],
      "text/plain": [
       "                                               title      id  \\\n",
       "0                             All In The War Machine  eld4i6   \n",
       "1                             How to get oil back up  g55or2   \n",
       "2                               Type yy into google.  c75d5x   \n",
       "3                               Oil is now expenzive  d51f4o   \n",
       "4  My dad, working through a 15-hour time zone di...  d29nov   \n",
       "\n",
       "                                                 url                    body  \\\n",
       "0                https://i.redd.it/cj2vw26nmd941.jpg                     NaN   \n",
       "1                https://i.redd.it/w5iqqihjo2u41.jpg                     NaN   \n",
       "2  https://www.reddit.com/r/wallstreetbets/commen...  That’s all I’m saying.   \n",
       "3                https://i.redd.it/2j386s5iuym31.png                     NaN   \n",
       "4                https://i.redd.it/60asaz4zhsl31.jpg                     NaN   \n",
       "\n",
       "   date_created  number_comments             author  self_post  sub  \\\n",
       "0  1.578440e+09            780.0  everythingorange9        0.0  wsb   \n",
       "1  1.587461e+09            516.0   futuretrollshark        0.0  wsb   \n",
       "2  1.561875e+09          17281.0         Alopez2897        1.0  wsb   \n",
       "3  1.568673e+09           1019.0                NaN        0.0  wsb   \n",
       "4  1.568160e+09           1633.0            SerraTL        0.0  wsb   \n",
       "\n",
       "   submission  \n",
       "0           1  \n",
       "1           1  \n",
       "2           1  \n",
       "3           1  \n",
       "4           1  "
      ]
     },
     "execution_count": 2,
     "metadata": {},
     "output_type": "execute_result"
    }
   ],
   "source": [
    "# Some of the data was importing strange, had to fix it\n",
    "dtyping ={\n",
    "    'title' : str,\n",
    "    'url' : str,\n",
    "    'author' : str \n",
    "}\n",
    "df = pd.read_csv('./data/wsb_and_btc_all.csv', dtype=dtyping)\n",
    "df.head()"
   ]
  },
  {
   "cell_type": "code",
   "execution_count": 3,
   "metadata": {},
   "outputs": [
    {
     "data": {
      "text/plain": [
       "(1242069, 10)"
      ]
     },
     "execution_count": 3,
     "metadata": {},
     "output_type": "execute_result"
    }
   ],
   "source": [
    "df.shape"
   ]
  },
  {
   "cell_type": "code",
   "execution_count": 4,
   "metadata": {},
   "outputs": [
    {
     "data": {
      "text/plain": [
       "wsb    661080\n",
       "btc    580989\n",
       "Name: sub, dtype: int64"
      ]
     },
     "execution_count": 4,
     "metadata": {},
     "output_type": "execute_result"
    }
   ],
   "source": [
    "\n",
    "df['sub'].value_counts()"
   ]
  },
  {
   "cell_type": "code",
   "execution_count": 5,
   "metadata": {},
   "outputs": [
    {
     "data": {
      "text/plain": [
       "(286, 10)"
      ]
     },
     "execution_count": 5,
     "metadata": {},
     "output_type": "execute_result"
    }
   ],
   "source": [
    "df[df['self_post'] == 1].shape"
   ]
  },
  {
   "cell_type": "code",
   "execution_count": 6,
   "metadata": {},
   "outputs": [
    {
     "data": {
      "text/plain": [
       "wsb    168\n",
       "btc    118\n",
       "Name: sub, dtype: int64"
      ]
     },
     "execution_count": 6,
     "metadata": {},
     "output_type": "execute_result"
    }
   ],
   "source": [
    "df[df['self_post'] == 1]['sub'].value_counts()"
   ]
  },
  {
   "cell_type": "code",
   "execution_count": 7,
   "metadata": {},
   "outputs": [
    {
     "data": {
      "text/plain": [
       "wsb    660912\n",
       "btc    580871\n",
       "Name: sub, dtype: int64"
      ]
     },
     "execution_count": 7,
     "metadata": {},
     "output_type": "execute_result"
    }
   ],
   "source": [
    "df[df['self_post'] != 1]['sub'].value_counts()"
   ]
  },
  {
   "cell_type": "code",
   "execution_count": 8,
   "metadata": {},
   "outputs": [
    {
     "data": {
      "text/plain": [
       "btc    990\n",
       "wsb    980\n",
       "Name: sub, dtype: int64"
      ]
     },
     "execution_count": 8,
     "metadata": {},
     "output_type": "execute_result"
    }
   ],
   "source": [
    "df[df['submission'] == 1]['sub'].value_counts()"
   ]
  },
  {
   "cell_type": "code",
   "execution_count": 9,
   "metadata": {},
   "outputs": [],
   "source": [
    "# df[df['sub'] == 'btc']['body'].dropna().to_clipboard(index=False)"
   ]
  },
  {
   "cell_type": "code",
   "execution_count": 10,
   "metadata": {},
   "outputs": [],
   "source": [
    "# df[df['sub'] == 'wsb']['body'].dropna()[:250000].to_clipboard(index=False)"
   ]
  },
  {
   "cell_type": "markdown",
   "metadata": {},
   "source": [
    "## From here and down was looking for word frequency in each subreddit.  "
   ]
  },
  {
   "cell_type": "code",
   "execution_count": null,
   "metadata": {},
   "outputs": [],
   "source": [
    "wsb = df[df['sub'] == 'wsb'].copy()\n",
    "btc = df[df['sub'] == 'btc'].copy()"
   ]
  },
  {
   "cell_type": "code",
   "execution_count": 13,
   "metadata": {},
   "outputs": [],
   "source": [
    "wsb.dropna(inplace=True)\n",
    "btc.dropna(inplace=True)"
   ]
  },
  {
   "cell_type": "code",
   "execution_count": 20,
   "metadata": {},
   "outputs": [
    {
     "data": {
      "text/html": [
       "<div>\n",
       "<style scoped>\n",
       "    .dataframe tbody tr th:only-of-type {\n",
       "        vertical-align: middle;\n",
       "    }\n",
       "\n",
       "    .dataframe tbody tr th {\n",
       "        vertical-align: top;\n",
       "    }\n",
       "\n",
       "    .dataframe thead th {\n",
       "        text-align: right;\n",
       "    }\n",
       "</style>\n",
       "<table border=\"1\" class=\"dataframe\">\n",
       "  <thead>\n",
       "    <tr style=\"text-align: right;\">\n",
       "      <th></th>\n",
       "      <th>title</th>\n",
       "      <th>id</th>\n",
       "      <th>url</th>\n",
       "      <th>body</th>\n",
       "      <th>date_created</th>\n",
       "      <th>number_comments</th>\n",
       "      <th>author</th>\n",
       "      <th>self_post</th>\n",
       "      <th>sub</th>\n",
       "      <th>submission</th>\n",
       "    </tr>\n",
       "  </thead>\n",
       "  <tbody>\n",
       "    <tr>\n",
       "      <th>661105</th>\n",
       "      <td>I'm donating 5057 BTC to charitable causes! In...</td>\n",
       "      <td>7jj0oa</td>\n",
       "      <td>https://www.reddit.com/r/Bitcoin/comments/7jj0...</td>\n",
       "      <td>Hello! \\n\\nI remember staring at bitcoin a few...</td>\n",
       "      <td>1.513199e+09</td>\n",
       "      <td>2862.0</td>\n",
       "      <td>PineappleFund</td>\n",
       "      <td>1.0</td>\n",
       "      <td>btc</td>\n",
       "      <td>1</td>\n",
       "    </tr>\n",
       "    <tr>\n",
       "      <th>661109</th>\n",
       "      <td>Localbitcoins.com is illegally holding my 9.3 ...</td>\n",
       "      <td>98uecl</td>\n",
       "      <td>https://www.reddit.com/r/Bitcoin/comments/98ue...</td>\n",
       "      <td>&amp;#x200B;\\n\\n**Edit.**\\n\\nThanks for all your s...</td>\n",
       "      <td>1.534807e+09</td>\n",
       "      <td>767.0</td>\n",
       "      <td>crlxzzz</td>\n",
       "      <td>1.0</td>\n",
       "      <td>btc</td>\n",
       "      <td>1</td>\n",
       "    </tr>\n",
       "    <tr>\n",
       "      <th>661126</th>\n",
       "      <td>Us Senate Bill S.1241 to criminalize concealed...</td>\n",
       "      <td>7iey6q</td>\n",
       "      <td>https://www.reddit.com/r/Bitcoin/comments/7iey...</td>\n",
       "      <td>On November 28, 2017, the US Senate, Committee...</td>\n",
       "      <td>1.512768e+09</td>\n",
       "      <td>1589.0</td>\n",
       "      <td>EaFaer</td>\n",
       "      <td>1.0</td>\n",
       "      <td>btc</td>\n",
       "      <td>1</td>\n",
       "    </tr>\n",
       "    <tr>\n",
       "      <th>661128</th>\n",
       "      <td>Don't invest recklessly</td>\n",
       "      <td>7gi55s</td>\n",
       "      <td>https://www.reddit.com/r/Bitcoin/comments/7gi5...</td>\n",
       "      <td>I posted about this [just a few months ago](ht...</td>\n",
       "      <td>1.512030e+09</td>\n",
       "      <td>1927.0</td>\n",
       "      <td>theymos</td>\n",
       "      <td>1.0</td>\n",
       "      <td>btc</td>\n",
       "      <td>1</td>\n",
       "    </tr>\n",
       "    <tr>\n",
       "      <th>661131</th>\n",
       "      <td>Guys, I am out</td>\n",
       "      <td>7fvoxh</td>\n",
       "      <td>https://www.reddit.com/r/Bitcoin/comments/7fvo...</td>\n",
       "      <td>**So I sold the last of my 22ish BTC yesterday...</td>\n",
       "      <td>1.511823e+09</td>\n",
       "      <td>1559.0</td>\n",
       "      <td>DebtFreeMFers</td>\n",
       "      <td>1.0</td>\n",
       "      <td>btc</td>\n",
       "      <td>1</td>\n",
       "    </tr>\n",
       "  </tbody>\n",
       "</table>\n",
       "</div>"
      ],
      "text/plain": [
       "                                                    title      id  \\\n",
       "661105  I'm donating 5057 BTC to charitable causes! In...  7jj0oa   \n",
       "661109  Localbitcoins.com is illegally holding my 9.3 ...  98uecl   \n",
       "661126  Us Senate Bill S.1241 to criminalize concealed...  7iey6q   \n",
       "661128                            Don't invest recklessly  7gi55s   \n",
       "661131                                     Guys, I am out  7fvoxh   \n",
       "\n",
       "                                                      url  \\\n",
       "661105  https://www.reddit.com/r/Bitcoin/comments/7jj0...   \n",
       "661109  https://www.reddit.com/r/Bitcoin/comments/98ue...   \n",
       "661126  https://www.reddit.com/r/Bitcoin/comments/7iey...   \n",
       "661128  https://www.reddit.com/r/Bitcoin/comments/7gi5...   \n",
       "661131  https://www.reddit.com/r/Bitcoin/comments/7fvo...   \n",
       "\n",
       "                                                     body  date_created  \\\n",
       "661105  Hello! \\n\\nI remember staring at bitcoin a few...  1.513199e+09   \n",
       "661109  &#x200B;\\n\\n**Edit.**\\n\\nThanks for all your s...  1.534807e+09   \n",
       "661126  On November 28, 2017, the US Senate, Committee...  1.512768e+09   \n",
       "661128  I posted about this [just a few months ago](ht...  1.512030e+09   \n",
       "661131  **So I sold the last of my 22ish BTC yesterday...  1.511823e+09   \n",
       "\n",
       "        number_comments         author  self_post  sub  submission  \n",
       "661105           2862.0  PineappleFund        1.0  btc           1  \n",
       "661109            767.0        crlxzzz        1.0  btc           1  \n",
       "661126           1589.0         EaFaer        1.0  btc           1  \n",
       "661128           1927.0        theymos        1.0  btc           1  \n",
       "661131           1559.0  DebtFreeMFers        1.0  btc           1  "
      ]
     },
     "execution_count": 20,
     "metadata": {},
     "output_type": "execute_result"
    }
   ],
   "source": [
    "btc.head()"
   ]
  },
  {
   "cell_type": "code",
   "execution_count": 75,
   "metadata": {},
   "outputs": [],
   "source": [
    "stop_list = text.ENGLISH_STOP_WORDS.union(['https', 'com', 'www'])\n",
    "# https://stackoverflow.com/questions/24386489/adding-words-to-scikit-learns-countvectorizers-stop-list/24386751#24386751\n",
    "\n",
    "\n",
    "wsb_data = wsb['body'].append(wsb['title'])\n",
    "btc_data = btc['body'].append(btc['title'])\n",
    "cv_wsb = CountVectorizer(stop_words=stop_list)\n",
    "cv_btc = CountVectorizer(stop_words=stop_list)\n",
    "wsb_v = cv_wsb.fit_transform(wsb_data)\n",
    "btc_v = cv_btc.fit_transform(btc_data)\n",
    "\n",
    "# From: https://medium.com/@cristhianboujon/how-to-list-the-most-common-words-from-text-corpus-using-scikit-learn-dad4d0cab41d\n",
    "wsb_sum = wsb_v.sum(axis = 0)\n",
    "wsb_freq = [(word,wsb_sum[0,idx]) for word, idx in cv_wsb.vocabulary_.items()]\n",
    "wsb_freq = sorted(wsb_freq, key = lambda x: x[1], reverse=True)\n",
    "\n",
    "\n",
    "btc_sum = btc_v.sum(axis = 0)\n",
    "btc_freq = [(word,btc_sum[0,idx]) for word, idx in cv_btc.vocabulary_.items()]\n",
    "btc_freq = sorted(btc_freq, key = lambda x: x[1], reverse=True)\n"
   ]
  },
  {
   "cell_type": "code",
   "execution_count": 78,
   "metadata": {},
   "outputs": [
    {
     "data": {
      "text/html": [
       "<div>\n",
       "<style scoped>\n",
       "    .dataframe tbody tr th:only-of-type {\n",
       "        vertical-align: middle;\n",
       "    }\n",
       "\n",
       "    .dataframe tbody tr th {\n",
       "        vertical-align: top;\n",
       "    }\n",
       "\n",
       "    .dataframe thead th {\n",
       "        text-align: right;\n",
       "    }\n",
       "</style>\n",
       "<table border=\"1\" class=\"dataframe\">\n",
       "  <thead>\n",
       "    <tr style=\"text-align: right;\">\n",
       "      <th></th>\n",
       "      <th>word</th>\n",
       "      <th>wsbfreq</th>\n",
       "      <th>btcfreq</th>\n",
       "    </tr>\n",
       "  </thead>\n",
       "  <tbody>\n",
       "    <tr>\n",
       "      <th>0</th>\n",
       "      <td>money</td>\n",
       "      <td>138.0</td>\n",
       "      <td>NaN</td>\n",
       "    </tr>\n",
       "    <tr>\n",
       "      <th>1</th>\n",
       "      <td>just</td>\n",
       "      <td>134.0</td>\n",
       "      <td>NaN</td>\n",
       "    </tr>\n",
       "    <tr>\n",
       "      <th>2</th>\n",
       "      <td>market</td>\n",
       "      <td>133.0</td>\n",
       "      <td>NaN</td>\n",
       "    </tr>\n",
       "    <tr>\n",
       "      <th>3</th>\n",
       "      <td>time</td>\n",
       "      <td>125.0</td>\n",
       "      <td>NaN</td>\n",
       "    </tr>\n",
       "    <tr>\n",
       "      <th>4</th>\n",
       "      <td>don</td>\n",
       "      <td>109.0</td>\n",
       "      <td>NaN</td>\n",
       "    </tr>\n",
       "  </tbody>\n",
       "</table>\n",
       "</div>"
      ],
      "text/plain": [
       "     word  wsbfreq  btcfreq\n",
       "0   money    138.0      NaN\n",
       "1    just    134.0      NaN\n",
       "2  market    133.0      NaN\n",
       "3    time    125.0      NaN\n",
       "4     don    109.0      NaN"
      ]
     },
     "execution_count": 78,
     "metadata": {},
     "output_type": "execute_result"
    }
   ],
   "source": [
    "words = []\n",
    "for word, freq in wsb_freq:\n",
    "    words.append({\n",
    "        'word' : word,\n",
    "        'wsbfreq' : freq\n",
    "    })\n",
    "for word, freq in wsb_freq:\n",
    "    words.append({\n",
    "    'word' : word,\n",
    "    'btcfreq' : freq\n",
    "})\n",
    "wordfreq = pd.DataFrame(words)\n",
    "wordfreq.head()"
   ]
  },
  {
   "cell_type": "code",
   "execution_count": 79,
   "metadata": {},
   "outputs": [
    {
     "data": {
      "text/plain": [
       "(12830, 3)"
      ]
     },
     "execution_count": 79,
     "metadata": {},
     "output_type": "execute_result"
    }
   ],
   "source": [
    "wordfreq.fillna(0, inplace=True)\n",
    "wordfreq.shape"
   ]
  },
  {
   "cell_type": "code",
   "execution_count": 80,
   "metadata": {},
   "outputs": [],
   "source": [
    "wordfreq['wsbpercentile'] = wordfreq['wsbfreq'].rank(pct=True)\n",
    "wordfreq['btcpercentile'] = wordfreq['btcfreq'].rank(pct=True)"
   ]
  },
  {
   "cell_type": "code",
   "execution_count": 81,
   "metadata": {},
   "outputs": [
    {
     "data": {
      "text/html": [
       "<div>\n",
       "<style scoped>\n",
       "    .dataframe tbody tr th:only-of-type {\n",
       "        vertical-align: middle;\n",
       "    }\n",
       "\n",
       "    .dataframe tbody tr th {\n",
       "        vertical-align: top;\n",
       "    }\n",
       "\n",
       "    .dataframe thead th {\n",
       "        text-align: right;\n",
       "    }\n",
       "</style>\n",
       "<table border=\"1\" class=\"dataframe\">\n",
       "  <thead>\n",
       "    <tr style=\"text-align: right;\">\n",
       "      <th></th>\n",
       "      <th>word</th>\n",
       "      <th>wsbfreq</th>\n",
       "      <th>btcfreq</th>\n",
       "      <th>wsbpercentile</th>\n",
       "      <th>btcpercentile</th>\n",
       "    </tr>\n",
       "  </thead>\n",
       "  <tbody>\n",
       "    <tr>\n",
       "      <th>0</th>\n",
       "      <td>money</td>\n",
       "      <td>138.0</td>\n",
       "      <td>0.0</td>\n",
       "      <td>1.000000</td>\n",
       "      <td>0.250039</td>\n",
       "    </tr>\n",
       "    <tr>\n",
       "      <th>1</th>\n",
       "      <td>just</td>\n",
       "      <td>134.0</td>\n",
       "      <td>0.0</td>\n",
       "      <td>0.999922</td>\n",
       "      <td>0.250039</td>\n",
       "    </tr>\n",
       "    <tr>\n",
       "      <th>2</th>\n",
       "      <td>market</td>\n",
       "      <td>133.0</td>\n",
       "      <td>0.0</td>\n",
       "      <td>0.999844</td>\n",
       "      <td>0.250039</td>\n",
       "    </tr>\n",
       "    <tr>\n",
       "      <th>3</th>\n",
       "      <td>time</td>\n",
       "      <td>125.0</td>\n",
       "      <td>0.0</td>\n",
       "      <td>0.999766</td>\n",
       "      <td>0.250039</td>\n",
       "    </tr>\n",
       "    <tr>\n",
       "      <th>4</th>\n",
       "      <td>don</td>\n",
       "      <td>109.0</td>\n",
       "      <td>0.0</td>\n",
       "      <td>0.999649</td>\n",
       "      <td>0.250039</td>\n",
       "    </tr>\n",
       "    <tr>\n",
       "      <th>...</th>\n",
       "      <td>...</td>\n",
       "      <td>...</td>\n",
       "      <td>...</td>\n",
       "      <td>...</td>\n",
       "      <td>...</td>\n",
       "    </tr>\n",
       "    <tr>\n",
       "      <th>12825</th>\n",
       "      <td>investigators</td>\n",
       "      <td>0.0</td>\n",
       "      <td>1.0</td>\n",
       "      <td>0.250039</td>\n",
       "      <td>0.636789</td>\n",
       "    </tr>\n",
       "    <tr>\n",
       "      <th>12826</th>\n",
       "      <td>incomplete</td>\n",
       "      <td>0.0</td>\n",
       "      <td>1.0</td>\n",
       "      <td>0.250039</td>\n",
       "      <td>0.636789</td>\n",
       "    </tr>\n",
       "    <tr>\n",
       "      <th>12827</th>\n",
       "      <td>visited</td>\n",
       "      <td>0.0</td>\n",
       "      <td>1.0</td>\n",
       "      <td>0.250039</td>\n",
       "      <td>0.636789</td>\n",
       "    </tr>\n",
       "    <tr>\n",
       "      <th>12828</th>\n",
       "      <td>packed</td>\n",
       "      <td>0.0</td>\n",
       "      <td>1.0</td>\n",
       "      <td>0.250039</td>\n",
       "      <td>0.636789</td>\n",
       "    </tr>\n",
       "    <tr>\n",
       "      <th>12829</th>\n",
       "      <td>items</td>\n",
       "      <td>0.0</td>\n",
       "      <td>1.0</td>\n",
       "      <td>0.250039</td>\n",
       "      <td>0.636789</td>\n",
       "    </tr>\n",
       "  </tbody>\n",
       "</table>\n",
       "<p>12830 rows × 5 columns</p>\n",
       "</div>"
      ],
      "text/plain": [
       "                word  wsbfreq  btcfreq  wsbpercentile  btcpercentile\n",
       "0              money    138.0      0.0       1.000000       0.250039\n",
       "1               just    134.0      0.0       0.999922       0.250039\n",
       "2             market    133.0      0.0       0.999844       0.250039\n",
       "3               time    125.0      0.0       0.999766       0.250039\n",
       "4                don    109.0      0.0       0.999649       0.250039\n",
       "...              ...      ...      ...            ...            ...\n",
       "12825  investigators      0.0      1.0       0.250039       0.636789\n",
       "12826     incomplete      0.0      1.0       0.250039       0.636789\n",
       "12827        visited      0.0      1.0       0.250039       0.636789\n",
       "12828         packed      0.0      1.0       0.250039       0.636789\n",
       "12829          items      0.0      1.0       0.250039       0.636789\n",
       "\n",
       "[12830 rows x 5 columns]"
      ]
     },
     "execution_count": 81,
     "metadata": {},
     "output_type": "execute_result"
    }
   ],
   "source": [
    "per = .25\n",
    "wordfreq[(wordfreq['wsbpercentile'] > per) & (wordfreq['btcpercentile'] > per)]\n",
    "# http://www.datasciencemadesimple.com/percentile-rank-column-pandas-python-2/"
   ]
  },
  {
   "cell_type": "code",
   "execution_count": 74,
   "metadata": {},
   "outputs": [
    {
     "data": {
      "text/html": [
       "<div>\n",
       "<style scoped>\n",
       "    .dataframe tbody tr th:only-of-type {\n",
       "        vertical-align: middle;\n",
       "    }\n",
       "\n",
       "    .dataframe tbody tr th {\n",
       "        vertical-align: top;\n",
       "    }\n",
       "\n",
       "    .dataframe thead th {\n",
       "        text-align: right;\n",
       "    }\n",
       "</style>\n",
       "<table border=\"1\" class=\"dataframe\">\n",
       "  <thead>\n",
       "    <tr style=\"text-align: right;\">\n",
       "      <th></th>\n",
       "      <th>word</th>\n",
       "      <th>wsbfreq</th>\n",
       "      <th>btcfreq</th>\n",
       "      <th>wsbpercentile</th>\n",
       "      <th>btcpercentile</th>\n",
       "    </tr>\n",
       "  </thead>\n",
       "  <tbody>\n",
       "    <tr>\n",
       "      <th>13355</th>\n",
       "      <td>items</td>\n",
       "      <td>0.0</td>\n",
       "      <td>1.0</td>\n",
       "      <td>0.250037</td>\n",
       "      <td>0.632038</td>\n",
       "    </tr>\n",
       "    <tr>\n",
       "      <th>8896</th>\n",
       "      <td>discussions</td>\n",
       "      <td>0.0</td>\n",
       "      <td>2.0</td>\n",
       "      <td>0.250037</td>\n",
       "      <td>0.801962</td>\n",
       "    </tr>\n",
       "    <tr>\n",
       "      <th>8897</th>\n",
       "      <td>complaint</td>\n",
       "      <td>0.0</td>\n",
       "      <td>2.0</td>\n",
       "      <td>0.250037</td>\n",
       "      <td>0.801962</td>\n",
       "    </tr>\n",
       "    <tr>\n",
       "      <th>8898</th>\n",
       "      <td>contain</td>\n",
       "      <td>0.0</td>\n",
       "      <td>2.0</td>\n",
       "      <td>0.250037</td>\n",
       "      <td>0.801962</td>\n",
       "    </tr>\n",
       "    <tr>\n",
       "      <th>8899</th>\n",
       "      <td>incurred</td>\n",
       "      <td>0.0</td>\n",
       "      <td>2.0</td>\n",
       "      <td>0.250037</td>\n",
       "      <td>0.801962</td>\n",
       "    </tr>\n",
       "    <tr>\n",
       "      <th>...</th>\n",
       "      <td>...</td>\n",
       "      <td>...</td>\n",
       "      <td>...</td>\n",
       "      <td>...</td>\n",
       "      <td>...</td>\n",
       "    </tr>\n",
       "    <tr>\n",
       "      <th>4</th>\n",
       "      <td>in</td>\n",
       "      <td>699.0</td>\n",
       "      <td>0.0</td>\n",
       "      <td>0.999701</td>\n",
       "      <td>0.250037</td>\n",
       "    </tr>\n",
       "    <tr>\n",
       "      <th>3</th>\n",
       "      <td>of</td>\n",
       "      <td>931.0</td>\n",
       "      <td>0.0</td>\n",
       "      <td>0.999775</td>\n",
       "      <td>0.250037</td>\n",
       "    </tr>\n",
       "    <tr>\n",
       "      <th>2</th>\n",
       "      <td>and</td>\n",
       "      <td>958.0</td>\n",
       "      <td>0.0</td>\n",
       "      <td>0.999850</td>\n",
       "      <td>0.250037</td>\n",
       "    </tr>\n",
       "    <tr>\n",
       "      <th>1</th>\n",
       "      <td>to</td>\n",
       "      <td>1390.0</td>\n",
       "      <td>0.0</td>\n",
       "      <td>0.999925</td>\n",
       "      <td>0.250037</td>\n",
       "    </tr>\n",
       "    <tr>\n",
       "      <th>0</th>\n",
       "      <td>the</td>\n",
       "      <td>2127.0</td>\n",
       "      <td>0.0</td>\n",
       "      <td>1.000000</td>\n",
       "      <td>0.250037</td>\n",
       "    </tr>\n",
       "  </tbody>\n",
       "</table>\n",
       "<p>13356 rows × 5 columns</p>\n",
       "</div>"
      ],
      "text/plain": [
       "              word  wsbfreq  btcfreq  wsbpercentile  btcpercentile\n",
       "13355        items      0.0      1.0       0.250037       0.632038\n",
       "8896   discussions      0.0      2.0       0.250037       0.801962\n",
       "8897     complaint      0.0      2.0       0.250037       0.801962\n",
       "8898       contain      0.0      2.0       0.250037       0.801962\n",
       "8899      incurred      0.0      2.0       0.250037       0.801962\n",
       "...            ...      ...      ...            ...            ...\n",
       "4               in    699.0      0.0       0.999701       0.250037\n",
       "3               of    931.0      0.0       0.999775       0.250037\n",
       "2              and    958.0      0.0       0.999850       0.250037\n",
       "1               to   1390.0      0.0       0.999925       0.250037\n",
       "0              the   2127.0      0.0       1.000000       0.250037\n",
       "\n",
       "[13356 rows x 5 columns]"
      ]
     },
     "execution_count": 74,
     "metadata": {},
     "output_type": "execute_result"
    }
   ],
   "source": [
    "wordfreq.sort_values('wsbfreq')"
   ]
  },
  {
   "cell_type": "code",
   "execution_count": 83,
   "metadata": {},
   "outputs": [
    {
     "data": {
      "text/plain": [
       "3872"
      ]
     },
     "execution_count": 83,
     "metadata": {},
     "output_type": "execute_result"
    }
   ],
   "source": [
    "cv_wsb.vocabulary_['money']"
   ]
  },
  {
   "cell_type": "code",
   "execution_count": null,
   "metadata": {},
   "outputs": [],
   "source": []
  }
 ],
 "metadata": {
  "kernelspec": {
   "display_name": "Python 3",
   "language": "python",
   "name": "python3"
  },
  "language_info": {
   "codemirror_mode": {
    "name": "ipython",
    "version": 3
   },
   "file_extension": ".py",
   "mimetype": "text/x-python",
   "name": "python",
   "nbconvert_exporter": "python",
   "pygments_lexer": "ipython3",
   "version": "3.7.6"
  }
 },
 "nbformat": 4,
 "nbformat_minor": 4
}

{
 "cells": [
  {
   "cell_type": "code",
   "execution_count": 49,
   "metadata": {},
   "outputs": [],
   "source": [
    "import pandas as pd\n",
    "import numpy as np"
   ]
  },
  {
   "cell_type": "code",
   "execution_count": 50,
   "metadata": {},
   "outputs": [],
   "source": [
    "# Reading in the data to cleaning\n",
    "wsb_posts = pd.read_csv('./data/wsb_posts.csv')\n",
    "wsb_com = pd.read_csv('./data/wsb_comments.csv')\n",
    "btc_posts = pd.read_csv('./data/btc_posts.csv')\n",
    "btc_com = pd.read_csv('./data/btc_comments.csv')"
   ]
  },
  {
   "cell_type": "code",
   "execution_count": 51,
   "metadata": {},
   "outputs": [
    {
     "data": {
      "text/html": [
       "<div>\n",
       "<style scoped>\n",
       "    .dataframe tbody tr th:only-of-type {\n",
       "        vertical-align: middle;\n",
       "    }\n",
       "\n",
       "    .dataframe tbody tr th {\n",
       "        vertical-align: top;\n",
       "    }\n",
       "\n",
       "    .dataframe thead th {\n",
       "        text-align: right;\n",
       "    }\n",
       "</style>\n",
       "<table border=\"1\" class=\"dataframe\">\n",
       "  <thead>\n",
       "    <tr style=\"text-align: right;\">\n",
       "      <th></th>\n",
       "      <th>id</th>\n",
       "      <th>comment</th>\n",
       "    </tr>\n",
       "  </thead>\n",
       "  <tbody>\n",
       "    <tr>\n",
       "      <th>0</th>\n",
       "      <td>eld4i6</td>\n",
       "      <td>Can't buy stock in the company that made the p...</td>\n",
       "    </tr>\n",
       "    <tr>\n",
       "      <th>1</th>\n",
       "      <td>eld4i6</td>\n",
       "      <td>Honestly if someone can find me an underground...</td>\n",
       "    </tr>\n",
       "    <tr>\n",
       "      <th>2</th>\n",
       "      <td>eld4i6</td>\n",
       "      <td>Are there any ETFs that has all three companie...</td>\n",
       "    </tr>\n",
       "    <tr>\n",
       "      <th>3</th>\n",
       "      <td>eld4i6</td>\n",
       "      <td>Wait why do the lobsters still have the rubber...</td>\n",
       "    </tr>\n",
       "    <tr>\n",
       "      <th>4</th>\n",
       "      <td>eld4i6</td>\n",
       "      <td>Raytheon is merging with United technology \\n\\...</td>\n",
       "    </tr>\n",
       "  </tbody>\n",
       "</table>\n",
       "</div>"
      ],
      "text/plain": [
       "       id                                            comment\n",
       "0  eld4i6  Can't buy stock in the company that made the p...\n",
       "1  eld4i6  Honestly if someone can find me an underground...\n",
       "2  eld4i6  Are there any ETFs that has all three companie...\n",
       "3  eld4i6  Wait why do the lobsters still have the rubber...\n",
       "4  eld4i6  Raytheon is merging with United technology \\n\\..."
      ]
     },
     "execution_count": 51,
     "metadata": {},
     "output_type": "execute_result"
    }
   ],
   "source": [
    "wsb_com.head()"
   ]
  },
  {
   "cell_type": "code",
   "execution_count": 52,
   "metadata": {
    "scrolled": true
   },
   "outputs": [
    {
     "data": {
      "text/html": [
       "<div>\n",
       "<style scoped>\n",
       "    .dataframe tbody tr th:only-of-type {\n",
       "        vertical-align: middle;\n",
       "    }\n",
       "\n",
       "    .dataframe tbody tr th {\n",
       "        vertical-align: top;\n",
       "    }\n",
       "\n",
       "    .dataframe thead th {\n",
       "        text-align: right;\n",
       "    }\n",
       "</style>\n",
       "<table border=\"1\" class=\"dataframe\">\n",
       "  <thead>\n",
       "    <tr style=\"text-align: right;\">\n",
       "      <th></th>\n",
       "      <th>title</th>\n",
       "      <th>id</th>\n",
       "      <th>url</th>\n",
       "      <th>body</th>\n",
       "      <th>date_created</th>\n",
       "      <th>number_comments</th>\n",
       "      <th>author</th>\n",
       "    </tr>\n",
       "  </thead>\n",
       "  <tbody>\n",
       "    <tr>\n",
       "      <th>0</th>\n",
       "      <td>All In The War Machine</td>\n",
       "      <td>eld4i6</td>\n",
       "      <td>https://i.redd.it/cj2vw26nmd941.jpg</td>\n",
       "      <td>NaN</td>\n",
       "      <td>1.578440e+09</td>\n",
       "      <td>780</td>\n",
       "      <td>everythingorange9</td>\n",
       "    </tr>\n",
       "    <tr>\n",
       "      <th>1</th>\n",
       "      <td>How to get oil back up</td>\n",
       "      <td>g55or2</td>\n",
       "      <td>https://i.redd.it/w5iqqihjo2u41.jpg</td>\n",
       "      <td>NaN</td>\n",
       "      <td>1.587461e+09</td>\n",
       "      <td>516</td>\n",
       "      <td>futuretrollshark</td>\n",
       "    </tr>\n",
       "    <tr>\n",
       "      <th>2</th>\n",
       "      <td>Type yy into google.</td>\n",
       "      <td>c75d5x</td>\n",
       "      <td>https://www.reddit.com/r/wallstreetbets/commen...</td>\n",
       "      <td>That’s all I’m saying.</td>\n",
       "      <td>1.561875e+09</td>\n",
       "      <td>17281</td>\n",
       "      <td>Alopez2897</td>\n",
       "    </tr>\n",
       "    <tr>\n",
       "      <th>3</th>\n",
       "      <td>Oil is now expenzive</td>\n",
       "      <td>d51f4o</td>\n",
       "      <td>https://i.redd.it/2j386s5iuym31.png</td>\n",
       "      <td>NaN</td>\n",
       "      <td>1.568673e+09</td>\n",
       "      <td>1019</td>\n",
       "      <td>NaN</td>\n",
       "    </tr>\n",
       "    <tr>\n",
       "      <th>4</th>\n",
       "      <td>My dad, working through a 15-hour time zone di...</td>\n",
       "      <td>d29nov</td>\n",
       "      <td>https://i.redd.it/60asaz4zhsl31.jpg</td>\n",
       "      <td>NaN</td>\n",
       "      <td>1.568160e+09</td>\n",
       "      <td>1633</td>\n",
       "      <td>SerraTL</td>\n",
       "    </tr>\n",
       "  </tbody>\n",
       "</table>\n",
       "</div>"
      ],
      "text/plain": [
       "                                               title      id  \\\n",
       "0                             All In The War Machine  eld4i6   \n",
       "1                             How to get oil back up  g55or2   \n",
       "2                               Type yy into google.  c75d5x   \n",
       "3                               Oil is now expenzive  d51f4o   \n",
       "4  My dad, working through a 15-hour time zone di...  d29nov   \n",
       "\n",
       "                                                 url                    body  \\\n",
       "0                https://i.redd.it/cj2vw26nmd941.jpg                     NaN   \n",
       "1                https://i.redd.it/w5iqqihjo2u41.jpg                     NaN   \n",
       "2  https://www.reddit.com/r/wallstreetbets/commen...  That’s all I’m saying.   \n",
       "3                https://i.redd.it/2j386s5iuym31.png                     NaN   \n",
       "4                https://i.redd.it/60asaz4zhsl31.jpg                     NaN   \n",
       "\n",
       "   date_created  number_comments             author  \n",
       "0  1.578440e+09              780  everythingorange9  \n",
       "1  1.587461e+09              516   futuretrollshark  \n",
       "2  1.561875e+09            17281         Alopez2897  \n",
       "3  1.568673e+09             1019                NaN  \n",
       "4  1.568160e+09             1633            SerraTL  "
      ]
     },
     "execution_count": 52,
     "metadata": {},
     "output_type": "execute_result"
    }
   ],
   "source": [
    "wsb_posts.head()"
   ]
  },
  {
   "cell_type": "code",
   "execution_count": 53,
   "metadata": {},
   "outputs": [],
   "source": [
    "# Removing the rows with deleted comments.  They don't show up as \n",
    "# NaNs because the text of them is '[removed]'\n",
    "wsb_com = wsb_com[wsb_com['comment'] != '[removed]']\n",
    "btc_com = btc_com[btc_com['comment'] != '[removed]']\n",
    "\n",
    "wsb_com.dropna(inplace=True)\n",
    "btc_com.dropna(inplace=True)"
   ]
  },
  {
   "cell_type": "code",
   "execution_count": 54,
   "metadata": {},
   "outputs": [
    {
     "data": {
      "text/plain": [
       "title                0\n",
       "id                   0\n",
       "url                  0\n",
       "body               812\n",
       "date_created         0\n",
       "number_comments      0\n",
       "author              33\n",
       "dtype: int64"
      ]
     },
     "execution_count": 54,
     "metadata": {},
     "output_type": "execute_result"
    }
   ],
   "source": [
    "# Remove empty/deleted posts\n",
    "# Will not drop any of these because many of the blank bodys mean the submission\n",
    "# was either a URL or an image/video because reddit does not allow for both\n",
    "wsb_posts.isna().sum()"
   ]
  },
  {
   "cell_type": "code",
   "execution_count": 55,
   "metadata": {},
   "outputs": [],
   "source": [
    "# Add subreddit column to each dataframe\n",
    "def add_subred(df, sub):\n",
    "    df['sub'] = sub"
   ]
  },
  {
   "cell_type": "code",
   "execution_count": 56,
   "metadata": {},
   "outputs": [],
   "source": [
    "# Add column for submission/comment\n",
    "def add_subcol(df, sub):\n",
    "    if sub == 'sub':\n",
    "        df['submission'] = 1\n",
    "    else:\n",
    "        df['submission'] = 0"
   ]
  },
  {
   "cell_type": "code",
   "execution_count": 57,
   "metadata": {},
   "outputs": [],
   "source": [
    "# Add column to submissions for if self-post\n",
    "def self_post(df):\n",
    "    df['self_post'] = np.where((df['body'].notna()) & (df['url'].str.contains('reddit.com')), 1, 0)"
   ]
  },
  {
   "cell_type": "code",
   "execution_count": 58,
   "metadata": {},
   "outputs": [],
   "source": [
    "self_post(wsb_posts)\n",
    "self_post(btc_posts)"
   ]
  },
  {
   "cell_type": "code",
   "execution_count": 59,
   "metadata": {},
   "outputs": [],
   "source": [
    "# Adding column for what subreddit the post/comment was from\n",
    "add_subred(wsb_posts, 'wsb')\n",
    "add_subred(wsb_com, 'wsb')\n",
    "add_subred(btc_posts, 'btc')\n",
    "add_subred(btc_com, 'btc')\n",
    "# Adding column where if it is a submission it is a 1, comments are a 0\n",
    "wsb_posts['submission'] = 1\n",
    "wsb_com['submission'] = 0\n",
    "btc_posts['submission'] = 1\n",
    "btc_com['submission'] = 0\n",
    "# Renaming 'comment' to 'body'\n",
    "btc_com.rename(columns={'comment' : 'body'}, inplace=True)\n",
    "wsb_com.rename(columns={'comment' : 'body'}, inplace=True)"
   ]
  },
  {
   "cell_type": "code",
   "execution_count": 60,
   "metadata": {},
   "outputs": [],
   "source": [
    "# Make dataframe with all info combined\n",
    "wsb = wsb_posts.append(wsb_com)\n",
    "btc = btc_posts.append(btc_com)\n",
    "both = wsb.append(btc)"
   ]
  },
  {
   "cell_type": "code",
   "execution_count": 61,
   "metadata": {},
   "outputs": [],
   "source": [
    "# Export as csvs\n",
    "def export_csv(df, name):\n",
    "    df.to_csv(f'./data/{name}.csv', index=False)\n"
   ]
  },
  {
   "cell_type": "code",
   "execution_count": 62,
   "metadata": {},
   "outputs": [
    {
     "name": "stdout",
     "output_type": "stream",
     "text": [
      "Exported wsb_com_cleaned\n",
      "Exported wsb_posts_cleaned\n",
      "Exported wsb\n",
      "Exported btc_com_cleaned\n",
      "Exported btc_posts_cleaned\n",
      "Exported btc\n",
      "Exported wsb_and_btc_all\n"
     ]
    }
   ],
   "source": [
    "dfs = {\n",
    "    'wsb_com_cleaned' : wsb_com,\n",
    "    'wsb_posts_cleaned' : wsb_posts,\n",
    "    'wsb' : wsb,\n",
    "    'btc_com_cleaned' : btc_com,\n",
    "    'btc_posts_cleaned' : btc_posts,\n",
    "    'btc' : btc,\n",
    "    'wsb_and_btc_all' : both\n",
    "}\n",
    "for name, df in dfs.items():\n",
    "    export_csv(df, name)\n",
    "    print(f'Exported {name}')"
   ]
  },
  {
   "cell_type": "code",
   "execution_count": null,
   "metadata": {},
   "outputs": [],
   "source": []
  }
 ],
 "metadata": {
  "kernelspec": {
   "display_name": "Python 3",
   "language": "python",
   "name": "python3"
  },
  "language_info": {
   "codemirror_mode": {
    "name": "ipython",
    "version": 3
   },
   "file_extension": ".py",
   "mimetype": "text/x-python",
   "name": "python",
   "nbconvert_exporter": "python",
   "pygments_lexer": "ipython3",
   "version": "3.7.6"
  }
 },
 "nbformat": 4,
 "nbformat_minor": 4
}

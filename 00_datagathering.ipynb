{
 "cells": [
  {
   "cell_type": "code",
   "execution_count": 1,
   "metadata": {},
   "outputs": [],
   "source": [
    "import praw\n",
    "import pandas as pd"
   ]
  },
  {
   "cell_type": "code",
   "execution_count": 2,
   "metadata": {},
   "outputs": [],
   "source": [
    "# Required to use the PRAW api and setting up an instance\n",
    "client_id = 'EbwL3_aj_O6n_A'\n",
    "client_sec = 'yMO-6kRawzDO7uCrnE6-ssLzJh0'\n",
    "user_agt = 'RedditWebScraping'\n",
    "reddit = praw.Reddit(client_id=client_id, \n",
    "                     client_secret=client_sec, \n",
    "                     user_agent=user_agt)"
   ]
  },
  {
   "cell_type": "code",
   "execution_count": 3,
   "metadata": {},
   "outputs": [],
   "source": [
    "# Setting up the subreddits\n",
    "wsb = 'wallstreetbets'\n",
    "btc = 'bitcoin'\n",
    "wsb_sub = reddit.subreddit(wsb)\n",
    "btc_sub = reddit.subreddit(btc)\n"
   ]
  },
  {
   "cell_type": "code",
   "execution_count": 24,
   "metadata": {},
   "outputs": [],
   "source": [
    "# Getting the posts from a subreddit, will then add it to a list\n",
    "def get_posts(sub):\n",
    "    output = []\n",
    "    for post in sub.top(limit=2_500):\n",
    "        output.append(subreddit_dict(post))\n",
    "    return output"
   ]
  },
  {
   "cell_type": "code",
   "execution_count": 11,
   "metadata": {},
   "outputs": [],
   "source": [
    "# Converting from PRAW-class data to useable data and setting it \n",
    "# up for use in a Pandas dataframe\n",
    "def subreddit_dict(post):\n",
    "    d = {\n",
    "        'title' : post.title,\n",
    "        'id' : post.id,\n",
    "        'url' : post.url,\n",
    "        'body' : post.selftext,\n",
    "        'date_created' : post.created,\n",
    "        'number_comments' : post.num_comments,\n",
    "        'author' : post.author\n",
    "    }\n",
    "    return d"
   ]
  },
  {
   "cell_type": "code",
   "execution_count": 12,
   "metadata": {},
   "outputs": [],
   "source": [
    "# Getting all the comments from a post and putting it into a list\n",
    "def get_comments(post):\n",
    "    submission = reddit.submission(id=post)\n",
    "    cmts = []\n",
    "    submission.comments.replace_more(limit=0)\n",
    "    for comment in submission.comments:\n",
    "        cmts.append({\n",
    "            'id' : post,\n",
    "            'comment' : comment.body\n",
    "        })\n",
    "    return cmts"
   ]
  },
  {
   "cell_type": "code",
   "execution_count": 13,
   "metadata": {},
   "outputs": [],
   "source": [
    "# Getting all the comments from the posts I scraped from a subreddit\n",
    "def all_comments(subreddit):\n",
    "    all_com = []\n",
    "    for post in subreddit:\n",
    "        coms = get_comments(subreddit['id'])\n",
    "        for comment in coms:\n",
    "            all_com.append(comment)\n",
    "    return all_com"
   ]
  },
  {
   "cell_type": "code",
   "execution_count": 14,
   "metadata": {},
   "outputs": [],
   "source": [
    "# Exporting a dataframe as a csv\n",
    "def export_csv(data, name):\n",
    "    df = pd.DataFrame(data)\n",
    "    df.to_csv(f'./data/{name}.csv', index=False)"
   ]
  },
  {
   "cell_type": "code",
   "execution_count": 25,
   "metadata": {},
   "outputs": [
    {
     "name": "stdout",
     "output_type": "stream",
     "text": [
      "CPU times: user 10min 24s, sys: 10 s, total: 10min 34s\n",
      "Wall time: 6h 4min 13s\n"
     ]
    }
   ],
   "source": [
    "# This is the code I used to get all the posts and comments from a subreddit\n",
    "# Also, I set this to convert it to a Dataframe and then export it\n",
    "%%time\n",
    "wsb_posts = get_posts(wsb_sub)\n",
    "wsb_com = []\n",
    "for post in wsb_posts:\n",
    "    wsb_com.append(all_comments(post))\n",
    "btc_posts = get_posts(btc_sub)\n",
    "btc_com = []\n",
    "for post in btc_posts:\n",
    "    btc_com.append(all_comments(post))\n",
    "    \n",
    "export_csv(wsb_posts, 'wsb_posts')\n",
    "# export_csv(wsb_com, 'wsb_comments')\n",
    "export_csv(btc_posts, 'btc_posts')\n",
    "# export_csv(btc_com, 'btc_comments')"
   ]
  },
  {
   "cell_type": "code",
   "execution_count": 34,
   "metadata": {},
   "outputs": [],
   "source": [
    "# The comments were formatted incorrectly, this corrected it\n",
    "def comment_df(coms):\n",
    "    comments = []\n",
    "    for post in coms:\n",
    "        for com in post:\n",
    "            comments.append(com)\n",
    "    return comments\n",
    "    "
   ]
  },
  {
   "cell_type": "code",
   "execution_count": 35,
   "metadata": {},
   "outputs": [],
   "source": [
    "export_csv(comment_df(wsb_com), 'wsb_comments')\n",
    "export_csv(comment_df(btc_com), 'btc_comments')"
   ]
  }
 ],
 "metadata": {
  "kernelspec": {
   "display_name": "Python 3",
   "language": "python",
   "name": "python3"
  },
  "language_info": {
   "codemirror_mode": {
    "name": "ipython",
    "version": 3
   },
   "file_extension": ".py",
   "mimetype": "text/x-python",
   "name": "python",
   "nbconvert_exporter": "python",
   "pygments_lexer": "ipython3",
   "version": "3.7.6"
  }
 },
 "nbformat": 4,
 "nbformat_minor": 4
}
